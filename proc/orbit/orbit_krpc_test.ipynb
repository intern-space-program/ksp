{
 "cells": [
  {
   "cell_type": "code",
   "execution_count": 1,
   "metadata": {},
   "outputs": [],
   "source": [
    "import krpc\n",
    "import time\n",
    "import math\n",
    "import numpy as np\n",
    "import matplotlib.pyplot as plt"
   ]
  },
  {
   "cell_type": "markdown",
   "metadata": {},
   "source": [
    "**Initialize kRPC Connection & Vessel**"
   ]
  },
  {
   "cell_type": "code",
   "execution_count": 2,
   "metadata": {},
   "outputs": [],
   "source": [
    "# Once kRPC client is active in-game and at vehicle screen..\n",
    "conn = krpc.connect(name='orbit_krpc_test', \n",
    "                    address='127.0.0.1',\n",
    "                    rpc_port=50000,\n",
    "                    stream_port=50001)"
   ]
  },
  {
   "cell_type": "code",
   "execution_count": 3,
   "metadata": {},
   "outputs": [
    {
     "name": "stdout",
     "output_type": "stream",
     "text": [
      "0.4.8\n"
     ]
    }
   ],
   "source": [
    "# Craft initialize        \n",
    "orion = conn.space_center.active_vessel\n",
    "gateway = conn.space_center.vessels[1]\n",
    "print(conn.krpc.get_status().version)"
   ]
  },
  {
   "cell_type": "markdown",
   "metadata": {},
   "source": [
    "**Orbital Mechanics Definitions**"
   ]
  },
  {
   "cell_type": "code",
   "execution_count": 4,
   "metadata": {},
   "outputs": [],
   "source": [
    "def calc_burn_duration(vessel, dV):\n",
    "    ''' Calculates the burn time for a given vessel and a given delta-V. '''\n",
    "    m = vessel.mass\n",
    "    isp = vessel.specific_impulse\n",
    "    thrust = vessel.available_thrust\n",
    "    term1 = (m*isp*9.81)/(thrust)\n",
    "    term2 = (1-e**(dV/(isp*9.81)))\n",
    "    return abs(term1*term2)\n",
    "\n",
    "\n",
    "def vis_viva(r, a, M):\n",
    "    '''\n",
    "    Calculates the orbital speed of a vessel at some point in an\n",
    "    elliptical orbit given the semi-major axis and mass of orbiting\n",
    "    body.\n",
    "    '''\n",
    "    return np.sqrt(G*M*((2/r)-(1/a)))\n",
    "\n",
    "\n",
    "def orbital_period(a, M):\n",
    "    ''' \n",
    "    Calculates the orbital period of a satellite given\n",
    "    the semi-major axis of the orbit and the mass of the\n",
    "    orbiting body.\n",
    "    '''\n",
    "    mu = G*M\n",
    "    return (2*np.pi)*np.sqrt(a**3/mu)\n",
    "\n",
    "\n",
    "def v_pe_hyperbolic(M, a, e):\n",
    "    ''' Find periapsis speed of hyperbolic orbit. '''\n",
    "    k = G*M  # gravitational parameter\n",
    "    return ((-k/a)*(1+e)/(e-1))**0.5"
   ]
  },
  {
   "cell_type": "markdown",
   "metadata": {},
   "source": [
    "**Define Celestial Bodies**"
   ]
  },
  {
   "cell_type": "code",
   "execution_count": 5,
   "metadata": {},
   "outputs": [],
   "source": [
    "kerbin = conn.space_center.bodies['Kerbin']\n",
    "mun = conn.space_center.bodies['Mun']"
   ]
  },
  {
   "cell_type": "markdown",
   "metadata": {},
   "source": [
    "**Reference Frame**"
   ]
  },
  {
   "cell_type": "code",
   "execution_count": 6,
   "metadata": {},
   "outputs": [],
   "source": [
    "# Non-rotating Kerbin Centered Reference Frame\n",
    "kerbin_nrrf = kerbin.non_rotating_reference_frame"
   ]
  },
  {
   "cell_type": "markdown",
   "metadata": {},
   "source": [
    "**Properties of Bodies**"
   ]
  },
  {
   "cell_type": "code",
   "execution_count": 8,
   "metadata": {},
   "outputs": [
    {
     "name": "stdout",
     "output_type": "stream",
     "text": [
      "Kerbin Radius = 600000.0\n",
      "Mun Radius = 200000.0\n",
      "Mun Orbital Velocity @ Patch Point = [  0.        542.4942396   0.       ]\n",
      "Mun Rotational Speed = 4.520785660133697e-05\n"
     ]
    }
   ],
   "source": [
    "# mass in kg\n",
    "massKerbin = kerbin.mass  \n",
    "massMun = mun.mass\n",
    "\n",
    "# equatorial radius in m\n",
    "radKerbin = kerbin.equatorial_radius\n",
    "radMun = mun.equatorial_radius\n",
    "\n",
    "# gravitational parameter in m^3/s^2\n",
    "muKerbin = kerbin.gravitational_parameter\n",
    "muMun = mun.gravitational_parameter\n",
    "\n",
    "# Sphere-of-Influence in m\n",
    "munSOI = mun.sphere_of_influence\n",
    "\n",
    "# Rotational Period + Velocity\n",
    "T_m = mun.rotational_period  # period in sec\n",
    "w_m = mun.rotational_speed  # sidereal speed in rad/s\n",
    "\n",
    "# Orbital Period + Velocity\n",
    "v_m = np.array([0, mun.orbit.orbital_speed, 0])  # i=0, j, k=0\n",
    "\n",
    "print('Kerbin Radius =', radKerbin)\n",
    "print('Mun Radius =', radMun)\n",
    "print('Mun Orbital Velocity @ Patch Point =', v_m)\n",
    "print('Mun Rotational Speed =', w_m)\n",
    "\n",
    "G = 6.67408e-11  # (m^3/kg/s^2) gravitational constant\n"
   ]
  },
  {
   "cell_type": "markdown",
   "metadata": {},
   "source": [
    "**Trans-Munar Injection**"
   ]
  },
  {
   "cell_type": "code",
   "execution_count": 9,
   "metadata": {},
   "outputs": [
    {
     "name": "stdout",
     "output_type": "stream",
     "text": [
      "Preparing for Trans-Munar Injection...\n"
     ]
    }
   ],
   "source": [
    "# Aiming for true anomaly at intercept = 180 deg \n",
    "\n",
    "print('Preparing for Trans-Munar Injection...')\n",
    "\n",
    "# set Mun as target\n",
    "conn.space_center.target_body = mun\n",
    "time.sleep(1)"
   ]
  },
  {
   "cell_type": "code",
   "execution_count": 22,
   "metadata": {},
   "outputs": [
    {
     "name": "stdout",
     "output_type": "stream",
     "text": [
      "UT = 331408.9629346091\n",
      "Time to Periapsis = 1957.3066497433306 sec\n",
      "Mun currently at position: (-6740723.877348406, 0.0, -9927871.957743267) = 55.82468507275559 deg\n",
      "Orion currently at: [7.13861586e+03 1.22107533e+00 6.99766143e+05]\n",
      "\n",
      "Mun to Orion at Patch Point: [-2429559.        0.        0.]\n",
      "Kerbin to Orion at Patch Point: [-9170282.87734841        0.         -9927871.95774327]\n",
      "Kerbin to Orion at TMI: [8.61183881e+03 1.22104524e+00 6.99749563e+05]\n"
     ]
    }
   ],
   "source": [
    "# Arrival Angle @ Patch Point\n",
    "munAA = 0 * np.pi/180  # mun arrival angle (deg->rad) - depends on patch point being location\n",
    "\n",
    "# Mun relative to Kerbin \n",
    "r_m = mun.position(kerbin_nrrf)  # i, j=0, k\n",
    "ang_pos_mun = math.atan(r_m[2]/r_m[0])*180/np.pi  # relative to DN = +x\n",
    "\n",
    "# Position vector of Spacecraft relative to Mun @ patch point\n",
    "r_2 = np.array([-munSOI*math.cos(munAA), 0, munSOI*math.sin(munAA)])  # i,j=0, k           \n",
    "# Position vector of Spacecraft at Patch Point relative to Kerbin\n",
    "r_1 = r_m + r_2  \n",
    "\n",
    "# Spacecraft position @ Current\n",
    "alpha_0 = 0  # angle from Kerbin-Mun line @ TMI\n",
    "r_current = np.array(orion.orbit.position_at(conn.space_center.ut, kerbin_nrrf))  # i, j~=0, k\n",
    "\n",
    "# Spacecraft position @ TMI\n",
    "r_0 = np.array(orion.orbit.position_at(conn.space_center.ut + orion.orbit.time_to_periapsis, kerbin_nrrf))  # i, j~=0, k\n",
    "\n",
    "# # *****!!!~!~!!~!~needs to be adjusted to be flexible\n",
    "# a_transf = (mun.orbit.apoapsis + radKerbin + orion.orbit.periapsis) / 2  # semi-major axis of transfer orbit\n",
    "\n",
    "print('UT =', conn.space_center.ut)\n",
    "print('Time to Periapsis =', orion.orbit.time_to_periapsis, 'sec')  # sec\n",
    "\n",
    "print('Mun currently at position:', r_m, '=', ang_pos_mun, 'deg')\n",
    "print('Orion currently at:', r_current)\n",
    "\n",
    "print('\\nMun to Orion at Patch Point:', r_2)\n",
    "print('Kerbin to Orion at Patch Point:', r_1)\n",
    "print('Kerbin to Orion at TMI:', r_0)"
   ]
  },
  {
   "cell_type": "code",
   "execution_count": 24,
   "metadata": {},
   "outputs": [
    {
     "name": "stdout",
     "output_type": "stream",
     "text": [
      "Sweep Angle = 180.0 deg 3.141592653589793 rad\n",
      "Current True Anomaly = 6.956594753280709 deg\n"
     ]
    }
   ],
   "source": [
    "# Sweep Angle \n",
    "theta_tgt = math.atan(r_1[1]/r_1[0]) * 180/np.pi  # angle from local horizontal to patch point r_1\n",
    "theta = 180 + theta_tgt  # true anomaly at r_1\n",
    "theta_0 = 0  # true anomaly at r_0\n",
    "sw_deg = theta - theta_0\n",
    "sw_rad = sw_deg * np.pi/180\n",
    "\n",
    "t_a = orion.orbit.true_anomaly*180/np.pi  # in deg\n",
    "\n",
    "print('Sweep Angle =', sw_deg, 'deg', sw_rad, 'rad')\n",
    "print('Current True Anomaly =', t_a, 'deg')"
   ]
  },
  {
   "cell_type": "code",
   "execution_count": 25,
   "metadata": {},
   "outputs": [],
   "source": [
    "# Define Position Magnitudes\n",
    "r0 = np.linalg.norm(r_0)\n",
    "r1 = np.linalg.norm(r_1)\n",
    "r2 = np.linalg.norm(r_2)\n",
    "\n",
    "print(r0, r1, r2)"
   ]
  },
  {
   "cell_type": "code",
   "execution_count": 26,
   "metadata": {},
   "outputs": [
    {
     "name": "stdout",
     "output_type": "stream",
     "text": [
      "2167834725.956549\n"
     ]
    }
   ],
   "source": [
    "# Find Optimal Initial Flight Path Angle, start using fp_ang_i = 10\n",
    "fp_ang_i = 0  # deg\n",
    "\n",
    "h1 = math.sqrt(muKerbin*r0) * math.sqrt((1-math.cos(sw_rad)) / (r0/r1 + math.sin(sw_rad)*math.tan(fp_ang_i*np.pi/180) - math.cos(sw_rad))) \n",
    "\n",
    "print(h1)"
   ]
  },
  {
   "cell_type": "code",
   "execution_count": 31,
   "metadata": {},
   "outputs": [
    {
     "name": "stdout",
     "output_type": "stream",
     "text": [
      "f = -19.312669827724935 g = 5.3429122889842e-13 g_dot = -0.05177947994349408\n",
      "Velocity @ TMI: [-1.68521675e+19  4.41363106e+13  6.71199547e+18]\n",
      "Velocity @ Target: [ 8.72596469e+17 -2.28535521e+12 -3.47543635e+17]\n"
     ]
    }
   ],
   "source": [
    "f = 1 - (muKerbin*r1/h1**2) * (1 - math.cos(sw_rad))\n",
    "g = r0*r1/h1 * math.sin(sw_rad)\n",
    "g_dot = 1 - (muKerbin*r0/h1**2) * (1 - math.cos(sw_rad))\n",
    "\n",
    "print('f =', f, 'g =', g, 'g_dot =', g_dot)\n",
    "\n",
    "v_0 = (1 / g) * (r_1 - (f * r_0))\n",
    "v_1 = (1 / g) * ((g_dot * r_1) - r_0)\n",
    "\n",
    "print('Velocity @ TMI:', v_0)\n",
    "print('Velocity @ Target:', v_1)"
   ]
  },
  {
   "cell_type": "code",
   "execution_count": 32,
   "metadata": {},
   "outputs": [
    {
     "name": "stdout",
     "output_type": "stream",
     "text": [
      "Required dV = 1.8139637050876369e+19 m/s\n"
     ]
    }
   ],
   "source": [
    "# Calculate TMI delta-V\n",
    "vC = math.sqrt(muKerbin/r0)  # Circular orbit velocity\n",
    "v0 = np.linalg.norm(v_0)\n",
    "dv_tmi = math.sqrt(vC**2 + v0**2 - 2*vC*v0*math.cos(fp_ang_i*np.pi/180))\n",
    "\n",
    "print('Required dV =', dv_tmi, 'm/s')"
   ]
  },
  {
   "cell_type": "code",
   "execution_count": null,
   "metadata": {},
   "outputs": [],
   "source": [
    "# Calculate TMI delta-V\n",
    "vC = math.sqrt(muKerbin/r0)  # Circular orbit velocity\n",
    "v0 = np.linalg.norm(v_0)\n",
    "dv_tmi = math.sqrt(vC**2 + v0**2 - 2*vC*v0*math.cos(fp_ang_i*np.pi/180))\n",
    "\n",
    "print(dv_tmi)"
   ]
  },
  {
   "cell_type": "code",
   "execution_count": null,
   "metadata": {},
   "outputs": [],
   "source": [
    "tmi = orion.control.add_node(ut=ut_tmi)\n",
    "tmi.prograde = dv_tmi"
   ]
  },
  {
   "cell_type": "code",
   "execution_count": null,
   "metadata": {},
   "outputs": [],
   "source": [
    "# set SAS to maneuver and wait until oriented\n",
    "print('Orienting for maneuver.')\n",
    "\n",
    "orion.control.sas_mode = conn.space_center.SASMode.maneuver\n",
    "orion.control.rcs = True\n",
    "time.sleep(3)\n",
    "\n",
    "burn_time = calc_burn_duration(orion, dv_tmi)\n",
    "print(burn_time)"
   ]
  },
  {
   "cell_type": "code",
   "execution_count": null,
   "metadata": {},
   "outputs": [],
   "source": [
    "print('Burn baby, burn.')\n",
    "\n",
    "# execute maneuver\n",
    "while conn.space_center.ut < (ut_tmi - (burn_time / 2)):\n",
    "    time.sleep(0.1)\n",
    "\n",
    "while tmi.remaining_delta_v > 15:\n",
    "    orion.control.throttle = 1\n",
    "while tmi.remaining_delta_v > 0.1:\n",
    "    orion.control.throttle = 0.05\n",
    "\n",
    "tmi.remove()\n",
    "orion.control.throttle = 0\n",
    "orion.control.rcs = False\n",
    "\n",
    "print('TMI complete.')"
   ]
  },
  {
   "cell_type": "code",
   "execution_count": null,
   "metadata": {},
   "outputs": [],
   "source": [
    "tmi.remaining_delta_v"
   ]
  },
  {
   "cell_type": "markdown",
   "metadata": {},
   "source": []
  },
  {
   "cell_type": "markdown",
   "metadata": {},
   "source": []
  }
 ],
 "metadata": {
  "kernelspec": {
   "display_name": "Python 3",
   "language": "python",
   "name": "python3"
  },
  "language_info": {
   "codemirror_mode": {
    "name": "ipython",
    "version": 3
   },
   "file_extension": ".py",
   "mimetype": "text/x-python",
   "name": "python",
   "nbconvert_exporter": "python",
   "pygments_lexer": "ipython3",
   "version": "3.7.6"
  }
 },
 "nbformat": 4,
 "nbformat_minor": 4
}
