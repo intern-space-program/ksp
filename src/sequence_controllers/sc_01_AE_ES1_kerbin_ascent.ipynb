{
 "cells": [
  {
   "cell_type": "markdown",
   "metadata": {},
   "source": [
    "**Initial Setup**\n",
    "\n",
    "Server setup and initial values"
   ]
  },
  {
   "cell_type": "code",
   "execution_count": null,
   "metadata": {
    "tags": []
   },
   "outputs": [],
   "source": [
    "import time\n",
    "import krpc\n",
    "from math import e\n",
    "import numpy as np\n",
    "import matplotlib.pyplot as plt\n",
    "\n",
    "# Server\n",
    "conn = krpc.connect(name='Launch into orbit')\n",
    "vessel = conn.space_center.active_vessel\n",
    "\n",
    "# Set Up Streams for telemetry\n",
    "ut = conn.add_stream(getattr, conn.space_center, 'ut')\n",
    "altitude = conn.add_stream(getattr, vessel.flight(), 'mean_altitude')\n",
    "q = conn.add_stream(getattr, vessel.flight(), 'dynamic_pressure')\n",
    "apoapsis = conn.add_stream(getattr, vessel.orbit, 'apoapsis_altitude')\n",
    "stage_9_resources = vessel.resources_in_decouple_stage(stage=9, cumulative=False)\n",
    "srb_fuel = conn.add_stream(stage_9_resources.amount, 'SolidFuel')\n",
    "\n",
    "# Initial Values\n",
    "turn_start_altitude = 250\n",
    "turn_end_altitude = 45000\n",
    "target_altitude = 150000\n",
    "\n",
    "# Constants\n",
    "for name, obj in conn.space_center.bodies.items():\n",
    "    if name == 'Kerbin':\n",
    "        kerbin = obj\n",
    "    elif name == 'Mun':\n",
    "        mun = obj\n",
    "\n",
    "mass_kerbin = 5.2915158e22  # (kg)\n",
    "G = 6.67408e-11  # (m**3/kg/s**2) gravitational constant\n",
    "# mu = G*mass_kerbin\n",
    "# print(mu,kerbin.gravitational_parameter)\n",
    "mu = kerbin.gravitational_parameter\n"
   ]
  },
  {
   "cell_type": "markdown",
   "metadata": {},
   "source": [
    "**Helper Functions**"
   ]
  },
  {
   "cell_type": "code",
   "execution_count": null,
   "metadata": {},
   "outputs": [],
   "source": [
    "def execute_node(conn, vessel, node, burn_duration):\n",
    "    while conn.space_center.ut < (node.ut-(burn_duration/2)):\n",
    "        time.sleep(0.1)\n",
    "\n",
    "    while node.remaining_delta_v > 15:\n",
    "        vessel.control.throttle = 1\n",
    "    while node.remaining_delta_v > 0.1:\n",
    "        vessel.control.throttle = 0.05\n",
    "\n",
    "    node.remove()\n",
    "    vessel.control.throttle = 0"
   ]
  },
  {
   "cell_type": "markdown",
   "metadata": {},
   "source": [
    "**Orbital Mechanics**"
   ]
  },
  {
   "cell_type": "code",
   "execution_count": null,
   "metadata": {},
   "outputs": [],
   "source": [
    "def calc_burn_duration(vessel, dV):\n",
    "    ''' Calculates the burn time for a given vessel and a given delta-V. '''\n",
    "    m = vessel.mass\n",
    "    isp = vessel.specific_impulse\n",
    "    thrust = vessel.available_thrust\n",
    "    term1 = (m*isp*9.81)/(thrust)\n",
    "    term2 = (1-e**(dV/(isp*9.81)))\n",
    "    print(thrust)\n",
    "    return abs(term1*term2)\n",
    "\n",
    "def calc_circ_orb_speed(r):\n",
    "    ''' Calculates the orbital speed of a vessel in a circular orbit. '''\n",
    "    return np.sqrt(mu/r)\n",
    "\n",
    "def vis_viva(r, a):\n",
    "    '''\n",
    "    Calculates the orbital speed of a vessel at some point in an\n",
    "    elliptical orbit given the semi-major axis and mass of orbiting\n",
    "    body.\n",
    "    '''\n",
    "    return np.sqrt(mu*((2/r)-(1/a)))"
   ]
  },
  {
   "cell_type": "markdown",
   "metadata": {},
   "source": [
    "**Pre-Launch**"
   ]
  },
  {
   "cell_type": "code",
   "execution_count": null,
   "metadata": {
    "tags": []
   },
   "outputs": [],
   "source": [
    "\n",
    "vessel.control.sas = False\n",
    "vessel.control.rcs = False\n",
    "vessel.control.throttle = 0.75\n",
    "\n",
    "# Countdown...\n",
    "print('10...')\n",
    "time.sleep(1)\n",
    "print('9...')\n",
    "time.sleep(1)\n",
    "print('8...')\n",
    "time.sleep(1)\n",
    "print('7...')\n",
    "time.sleep(1)\n",
    "print('6...')\n",
    "time.sleep(1)\n",
    "print('5...')\n",
    "time.sleep(1)\n",
    "print('4...')\n",
    "time.sleep(1)\n",
    "print('3...')\n",
    "time.sleep(1)\n",
    "print('2...')\n",
    "time.sleep(1)\n",
    "print('1...')\n",
    "time.sleep(1)\n",
    "print('Liftoff!')"
   ]
  },
  {
   "cell_type": "markdown",
   "metadata": {},
   "source": [
    "**Ascent Phase**"
   ]
  },
  {
   "cell_type": "code",
   "execution_count": null,
   "metadata": {
    "tags": []
   },
   "outputs": [],
   "source": [
    "# Activate Main Engines\n",
    "vessel.control.activate_next_stage()\n",
    "vessel.auto_pilot.engage()\n",
    "vessel.auto_pilot.target_pitch_and_heading(90, 0)\n",
    "time.sleep(1)\n",
    "\n",
    "# Active SRBs and decouple umbilicals\n",
    "vessel.control.activate_next_stage()\n",
    "\n",
    "# Tower Clear\n",
    "while altitude() < 200:\n",
    "    pass\n",
    "print('Tower Clear, Begin Roll Porgram')\n",
    "# Roll Program\n",
    "vessel.auto_pilot.target_pitch_and_heading(90, 90)\n",
    "\n",
    "# Main ascent loop\n",
    "srbs_separated = False\n",
    "roll_program = False\n",
    "turn_angle = 0\n",
    "while True:\n",
    "\n",
    "    # Gravity turn\n",
    "    if altitude() > turn_start_altitude and altitude() < turn_end_altitude:\n",
    "        frac = ((altitude() - turn_start_altitude) /\n",
    "                (turn_end_altitude - turn_start_altitude))\n",
    "        new_turn_angle = np.sqrt(frac) * 90\n",
    "        if abs(new_turn_angle - turn_angle) > 0.5:\n",
    "            turn_angle = new_turn_angle\n",
    "            vessel.auto_pilot.target_pitch_and_heading(90-turn_angle,90)\n",
    "        if not roll_program:\n",
    "            if vessel.auto_pilot.heading_error < 10:\n",
    "                roll_program = True\n",
    "                print('Roll Program Complete')\n",
    "\n",
    "    # Separate SRBs when finished\n",
    "    if not srbs_separated:\n",
    "        if srb_fuel() < 40:\n",
    "            vessel.control.activate_next_stage()\n",
    "            srbs_separated = True\n",
    "            print('SRBs separated')\n",
    "\n",
    "    # Decrease throttle when approaching target apoapsis\n",
    "    if apoapsis() > target_altitude*0.9:\n",
    "        print('Approaching target apoapsis')\n",
    "        break\n",
    "\n",
    "\n",
    "# Disable engines when target apoapsis is reached\n",
    "vessel.control.throttle = 0.25\n",
    "while apoapsis() < target_altitude:\n",
    "    pass\n",
    "print('Target apoapsis reached')\n",
    "vessel.control.throttle = 0.0\n",
    "print('MECO')\n",
    "time.sleep(1)\n",
    "vessel.control.activate_next_stage()\n",
    "time.sleep(5)"
   ]
  },
  {
   "cell_type": "markdown",
   "metadata": {},
   "source": [
    "**Post-Ascent Coast**"
   ]
  },
  {
   "cell_type": "code",
   "execution_count": null,
   "metadata": {
    "tags": []
   },
   "outputs": [],
   "source": [
    "# Jettison LAS\n",
    "vessel.control.activate_next_stage()\n",
    "print('LAS Jettisonned')\n",
    "\n",
    "# Wait until out of atmosphere\n",
    "print('Coasting out of atmosphere')\n",
    "while altitude() < 70500:\n",
    "    pass"
   ]
  },
  {
   "cell_type": "markdown",
   "metadata": {},
   "source": [
    "**PRM Planning**"
   ]
  },
  {
   "cell_type": "code",
   "execution_count": null,
   "metadata": {
    "tags": []
   },
   "outputs": [],
   "source": [
    "# Plan PRM (using vis-viva equation)\n",
    "print('Planning circularization burn')\n",
    "vessel.control.activate_next_stage()\n",
    "a = vessel.orbit.semi_major_axis\n",
    "r = vessel.orbit.apoapsis\n",
    "v1 = vis_viva(r,a)\n",
    "v2 = calc_circ_orb_speed(r)\n",
    "delta_v = v2 - v1\n",
    "node = vessel.control.add_node(\n",
    "    ut() + vessel.orbit.time_to_apoapsis, prograde=delta_v)\n",
    "\n",
    "# Calculate burn time (using rocket equation)\n",
    "burn_time = calc_burn_duration(vessel,delta_v)\n",
    "print(burn_time)"
   ]
  },
  {
   "cell_type": "code",
   "execution_count": null,
   "metadata": {
    "tags": []
   },
   "outputs": [],
   "source": [
    "# Orientate ship\n",
    "print('Orientating ship for circularization burn')\n",
    "vessel.control.sas = True\n",
    "vessel.control.sas_mode = conn.space_center.SASMode.maneuver\n",
    "vessel.auto_pilot.reference_frame = node.reference_frame\n",
    "vessel.auto_pilot.target_direction = (0, 1, 0)\n",
    "vessel.auto_pilot.wait()\n",
    "time.sleep(1)\n",
    "ang_vel = vessel.angular_velocity(vessel.orbit.body.reference_frame)\n",
    "oriented = all(ang_vel[i] < 0.01 for i in range(3))\n",
    "while not oriented:\n",
    "    ang_vel = vessel.angular_velocity(vessel.orbit.body.reference_frame)\n",
    "    oriented = all(ang_vel[i] < 0.01 for i in range(3))\n",
    "\n",
    "# Wait until burn\n",
    "print('Waiting until circularization burn')\n",
    "burn_ut = ut() + vessel.orbit.time_to_apoapsis - (burn_time/2.)\n",
    "lead_time = burn_time/2.\n",
    "conn.space_center.warp_to(burn_ut - lead_time)"
   ]
  },
  {
   "cell_type": "markdown",
   "metadata": {},
   "source": [
    "**MEB2 (PRM)**"
   ]
  },
  {
   "cell_type": "code",
   "execution_count": null,
   "metadata": {
    "tags": []
   },
   "outputs": [],
   "source": [
    "# Execute burn\n",
    "print('Ready to execute burn')\n",
    "time_to_apoapsis = conn.add_stream(getattr, vessel.orbit, 'time_to_apoapsis')\n",
    "while time_to_apoapsis() - (burn_time/2.) > 0:\n",
    "    pass\n",
    "print('Executing burn')\n",
    "vessel.control.throttle = 1.0\n",
    "vessel.auto_pilot.target_direction = (0, 1, 0)\n",
    "print(vessel.thrust)\n",
    "while node.remaining_delta_v > 10:\n",
    "    pass\n",
    "print('Fine tuning')\n",
    "vessel.control.throttle = 0.05\n",
    "remaining_burn = conn.add_stream(node.remaining_burn_vector, node.reference_frame)\n",
    "while remaining_burn()[1] > 0.1:\n",
    "    pass\n",
    "vessel.control.throttle = 0.0\n",
    "node.remove()\n",
    "\n",
    "print('PRM Compelete')\n",
    "print('Launch complete')"
   ]
  }
 ],
 "metadata": {
  "kernelspec": {
   "display_name": "Python 3",
   "language": "python",
   "name": "python3"
  },
  "language_info": {
   "codemirror_mode": {
    "name": "ipython",
    "version": 3
   },
   "file_extension": ".py",
   "mimetype": "text/x-python",
   "name": "python",
   "nbconvert_exporter": "python",
   "pygments_lexer": "ipython3",
   "version": "3.8.3-final"
  }
 },
 "nbformat": 4,
 "nbformat_minor": 2
}