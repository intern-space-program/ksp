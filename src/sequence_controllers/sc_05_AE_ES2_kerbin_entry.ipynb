{
 "cells": [
  {
   "cell_type": "markdown",
   "metadata": {},
   "source": [
    "**Initial Setup**\n",
    "\n",
    "Server setup and initial values"
   ]
  },
  {
   "cell_type": "code",
   "execution_count": null,
   "metadata": {
    "tags": []
   },
   "outputs": [],
   "source": [
    "import time\n",
    "import krpc\n",
    "from math import e\n",
    "import numpy as np\n",
    "\n",
    "# Server\n",
    "conn = krpc.connect(name='Re-entry')\n",
    "vessel = conn.space_center.active_vessel\n",
    "\n",
    "# Set Up Streams for telemetry\n",
    "ut = conn.add_stream(getattr, conn.space_center, 'ut')\n",
    "# altitude = conn.add_stream(getattr, vessel.flight(), 'mean_altitude')\n",
    "q = conn.add_stream(getattr, vessel.flight(), 'dynamic_pressure')\n",
    "apoapsis = conn.add_stream(getattr, vessel.orbit, 'apoapsis_altitude')\n",
    "# v = conn.add_stream(getattr, vessel.flight(), 'speed')\n",
    "\n",
    "# Initial Values\n",
    "\n",
    "# Constants\n",
    "for name, obj in conn.space_center.bodies.items():\n",
    "    if name == 'Kerbin':\n",
    "        kerbin = obj\n",
    "    elif name == 'Mun':\n",
    "        mun = obj\n",
    "\n",
    "kerbin_nrrf = kerbin.non_rotating_reference_frame\n",
    "telem = vessel.flight(kerbin_nrrf)\n",
    "v = telem.speed\n",
    "altitude = telem.mean_altitude\n",
    "\n",
    "mass_kerbin = 5.2915158e22  # (kg)\n",
    "G = 6.67408e-11  # (m**3/kg/s**2) gravitational constant\n",
    "mu = kerbin.gravitational_parameter\n"
   ]
  },
  {
   "cell_type": "markdown",
   "metadata": {},
   "source": [
    "**Helper Functions**"
   ]
  },
  {
   "cell_type": "code",
   "execution_count": null,
   "metadata": {},
   "outputs": [],
   "source": [
    "def execute_node(conn, vessel, node, burn_duration):\n",
    "    while conn.space_center.ut < (node.ut-(burn_duration/2)):\n",
    "        time.sleep(0.1)\n",
    "\n",
    "    while node.remaining_delta_v > 15:\n",
    "        vessel.control.throttle = 1\n",
    "    while node.remaining_delta_v > 0.1:\n",
    "        vessel.control.throttle = 0.05\n",
    "\n",
    "    node.remove()\n",
    "    vessel.control.throttle = 0"
   ]
  },
  {
   "cell_type": "markdown",
   "metadata": {},
   "source": [
    "**Orbital Mechanics**"
   ]
  },
  {
   "cell_type": "code",
   "execution_count": null,
   "metadata": {},
   "outputs": [],
   "source": [
    "def calc_burn_duration(vessel, dV):\n",
    "    ''' Calculates the burn time for a given vessel and a given delta-V. '''\n",
    "    m = vessel.mass\n",
    "    isp = vessel.specific_impulse\n",
    "    thrust = vessel.available_thrust\n",
    "    term1 = (m*isp*9.81)/(thrust)\n",
    "    term2 = (1-e**(dV/(isp*9.81)))\n",
    "    print(thrust)\n",
    "    return abs(term1*term2)\n",
    "\n",
    "def calc_circ_orb_speed(r):\n",
    "    ''' Calculates the orbital speed of a vessel in a circular orbit. '''\n",
    "    return np.sqrt(mu/r)\n",
    "\n",
    "def vis_viva(r, a):\n",
    "    '''\n",
    "    Calculates the orbital speed of a vessel at some point in an\n",
    "    elliptical orbit given the semi-major axis and mass of orbiting\n",
    "    body.\n",
    "    '''\n",
    "    return np.sqrt(mu*((2/r)-(1/a)))"
   ]
  },
  {
   "cell_type": "markdown",
   "metadata": {},
   "source": [
    "**Re-Entry**"
   ]
  },
  {
   "cell_type": "code",
   "execution_count": null,
   "metadata": {
    "tags": []
   },
   "outputs": [],
   "source": [
    "\n",
    "vessel.control.sas = True\n",
    "vessel.control.rcs = False\n",
    "print(altitude)\n",
    "# print(q())\n",
    "print(v)\n",
    "\n",
    "# Wait until atmosphere entered\n",
    "while altitude > 70500:\n",
    "    conn.space_center.rails_warp_factor = 4\n",
    "print (\"In atmosphere\")\n",
    "time.sleep(1)\n",
    "vessel.control.activate_next_stage()\n",
    "\n",
    "# Point retrograde\n",
    "vessel.control.sas_mode = conn.space_center.SASMode.retrograde\n",
    "time.sleep(1)\n",
    "ang_vel = vessel.angular_velocity(vessel.orbit.body.reference_frame)\n",
    "oriented = all(ang_vel[i] < 0.01 for i in range(3))\n",
    "while not oriented:\n",
    "    ang_vel = vessel.angular_velocity(vessel.orbit.body.reference_frame)\n",
    "    oriented = all(ang_vel[i] < 0.01 for i in range(3))\n",
    "\n",
    "# Detach service module\n",
    "vessel.control.activate_next_stage()\n",
    "print(v)\n",
    "\n",
    "# Orient Vehicle until slow enough for drogue chuts\n",
    "while v > 500:\n",
    "    vessel.control.sas_mode = conn.space_center.SASMode.retrograde\n",
    "\n",
    "# Drogue chutes\n",
    "vessel.control.activate_next_stage()\n",
    "print(\"Dorgues deployed!\")\n",
    "\n",
    "# Orient vehicle until slow enough for main chutes\n",
    "while v > 255:\n",
    "    vessel.control.sas_mode = conn.space_center.SASMode.retrograde\n",
    "\n",
    "# Main chutes\n",
    "vessel.control.activate_next_stage()\n",
    "print(\"Main chutes deployed!\")\n"
   ]
  }
 ],
 "metadata": {
  "kernelspec": {
   "display_name": "Python 3",
   "language": "python",
   "name": "python3"
  },
  "language_info": {
   "codemirror_mode": {
    "name": "ipython",
    "version": 3
   },
   "file_extension": ".py",
   "mimetype": "text/x-python",
   "name": "python",
   "nbconvert_exporter": "python",
   "pygments_lexer": "ipython3",
   "version": "3.8.3-final"
  }
 },
 "nbformat": 4,
 "nbformat_minor": 2
}